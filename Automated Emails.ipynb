{
 "cells": [
  {
   "cell_type": "markdown",
   "id": "26d21466",
   "metadata": {},
   "source": [
    "# Instructions"
   ]
  },
  {
   "cell_type": "markdown",
   "id": "0ccbdb5f",
   "metadata": {},
   "source": [
    "# Imports"
   ]
  },
  {
   "cell_type": "code",
   "execution_count": 8,
   "id": "738ee177",
   "metadata": {},
   "outputs": [],
   "source": [
    "import smtplib\n",
    "from email.message import EmailMessage\n",
    "import os\n",
    "import mimetypes\n",
    "from datetime import datetime\n",
    "import schedule  \n",
    "import time"
   ]
  },
  {
   "cell_type": "markdown",
   "id": "e1f15708",
   "metadata": {},
   "source": [
    "# Simple Mail Transfer Protocol"
   ]
  },
  {
   "cell_type": "code",
   "execution_count": 17,
   "id": "64dff21b",
   "metadata": {},
   "outputs": [],
   "source": [
    "def send_cv(recipients, email, password):\n",
    "    \n",
    "    #senders email login and application password\n",
    "    gmail_user = email\n",
    "    gmail_password = password\n",
    "    #file paths\n",
    "    attachment_path = \"C:/Users/User/Downloads/Keanu Calo CV 2023.pdf\"\n",
    "    log_path = \"C:/Users/User/Documents/email_log.txt\"\n",
    "    #date and time\n",
    "    now = datetime.now()\n",
    "    dt_string = now.strftime(\"%d/%m/%Y %H:%M:%S\")\n",
    "\n",
    "\n",
    "    # Create the container email message.\n",
    "    msg = EmailMessage()\n",
    "    msg['Subject'] = 'Report Files'\n",
    "    msg['From'] = gmail_user\n",
    "    msg['To'] = ', '.join(recipients)\n",
    "    msg.preamble = 'You will not see this in a MIME-aware mail reader.\\n'\n",
    "    msg.set_content(\"\"\"\n",
    "    Please find the report attached to this email.\n",
    "    \"\"\")\n",
    "\n",
    "    #Attach file(s)\n",
    "    mime_type, _ = mimetypes.guess_type(attachment_path)\n",
    "    attachment_filename = os.path.basename(attachment_path)\n",
    "    mime_type, mime_subtype = mime_type.split('/', 1)\n",
    "\n",
    "    with open(attachment_path, 'rb') as ap:\n",
    "         msg.add_attachment(ap.read(), maintype=mime_type, subtype=mime_subtype,\n",
    "                               filename=os.path.basename(attachment_path))\n",
    "\n",
    "    #Create smtp server and send the mail\n",
    "    try:\n",
    "        smtp_server = smtplib.SMTP_SSL('smtp.gmail.com', 465)\n",
    "        smtp_server.ehlo()\n",
    "        smtp_server.login(gmail_user, gmail_password)\n",
    "        smtp_server.send_message(msg)\n",
    "        smtp_server.close()\n",
    "        print (\"Email sent successfully!\")\n",
    "        #log email\n",
    "        with open(log_path, \"a+\") as f:\n",
    "            log = \"Email sent successfuly:\"+dt_string+\"\\n\"\n",
    "            f.write(log)\n",
    "            \n",
    "    except Exception as ex:\n",
    "        print (\"Something went wrong….\",ex)\n",
    "        #log email\n",
    "        with open(log_path, \"a+\") as f:\n",
    "            log = \"Something went wrong:\"+dt_string+\"\\n\"\n",
    "            f.write(log)"
   ]
  },
  {
   "cell_type": "markdown",
   "id": "0a5eeec8",
   "metadata": {},
   "source": [
    "# Send unscheduled email"
   ]
  },
  {
   "cell_type": "code",
   "execution_count": 23,
   "id": "f50bb33a",
   "metadata": {},
   "outputs": [
    {
     "ename": "KeyboardInterrupt",
     "evalue": "Interrupted by user",
     "output_type": "error",
     "traceback": [
      "\u001b[1;31m---------------------------------------------------------------------------\u001b[0m",
      "\u001b[1;31mKeyboardInterrupt\u001b[0m                         Traceback (most recent call last)",
      "\u001b[1;32m<ipython-input-23-bd9a5e289c77>\u001b[0m in \u001b[0;36m<module>\u001b[1;34m\u001b[0m\n\u001b[1;32m----> 1\u001b[1;33m \u001b[0mpassword\u001b[0m \u001b[1;33m=\u001b[0m \u001b[0minput\u001b[0m\u001b[1;33m(\u001b[0m\u001b[1;34m\"Please enter your gmail application password to send email: \"\u001b[0m\u001b[1;33m)\u001b[0m\u001b[1;33m\u001b[0m\u001b[1;33m\u001b[0m\u001b[0m\n\u001b[0m\u001b[0;32m      2\u001b[0m \u001b[0mrecipients\u001b[0m \u001b[1;33m=\u001b[0m \u001b[1;33m[\u001b[0m\u001b[1;34m'keanucalo@gmail.com'\u001b[0m\u001b[1;33m,\u001b[0m\u001b[1;34m'clxkea001@myuct.ac.za'\u001b[0m\u001b[1;33m]\u001b[0m\u001b[1;33m\u001b[0m\u001b[1;33m\u001b[0m\u001b[0m\n\u001b[0;32m      3\u001b[0m \u001b[0msend_cv\u001b[0m\u001b[1;33m(\u001b[0m\u001b[0mrecipients\u001b[0m\u001b[1;33m,\u001b[0m\u001b[0mpasword\u001b[0m\u001b[1;33m)\u001b[0m\u001b[1;33m\u001b[0m\u001b[1;33m\u001b[0m\u001b[0m\n",
      "\u001b[1;32m~\\anaconda3\\lib\\site-packages\\ipykernel\\kernelbase.py\u001b[0m in \u001b[0;36mraw_input\u001b[1;34m(self, prompt)\u001b[0m\n\u001b[0;32m    858\u001b[0m                 \u001b[1;34m\"raw_input was called, but this frontend does not support input requests.\"\u001b[0m\u001b[1;33m\u001b[0m\u001b[1;33m\u001b[0m\u001b[0m\n\u001b[0;32m    859\u001b[0m             )\n\u001b[1;32m--> 860\u001b[1;33m         return self._input_request(str(prompt),\n\u001b[0m\u001b[0;32m    861\u001b[0m             \u001b[0mself\u001b[0m\u001b[1;33m.\u001b[0m\u001b[0m_parent_ident\u001b[0m\u001b[1;33m,\u001b[0m\u001b[1;33m\u001b[0m\u001b[1;33m\u001b[0m\u001b[0m\n\u001b[0;32m    862\u001b[0m             \u001b[0mself\u001b[0m\u001b[1;33m.\u001b[0m\u001b[0m_parent_header\u001b[0m\u001b[1;33m,\u001b[0m\u001b[1;33m\u001b[0m\u001b[1;33m\u001b[0m\u001b[0m\n",
      "\u001b[1;32m~\\anaconda3\\lib\\site-packages\\ipykernel\\kernelbase.py\u001b[0m in \u001b[0;36m_input_request\u001b[1;34m(self, prompt, ident, parent, password)\u001b[0m\n\u001b[0;32m    902\u001b[0m             \u001b[1;32mexcept\u001b[0m \u001b[0mKeyboardInterrupt\u001b[0m\u001b[1;33m:\u001b[0m\u001b[1;33m\u001b[0m\u001b[1;33m\u001b[0m\u001b[0m\n\u001b[0;32m    903\u001b[0m                 \u001b[1;31m# re-raise KeyboardInterrupt, to truncate traceback\u001b[0m\u001b[1;33m\u001b[0m\u001b[1;33m\u001b[0m\u001b[1;33m\u001b[0m\u001b[0m\n\u001b[1;32m--> 904\u001b[1;33m                 \u001b[1;32mraise\u001b[0m \u001b[0mKeyboardInterrupt\u001b[0m\u001b[1;33m(\u001b[0m\u001b[1;34m\"Interrupted by user\"\u001b[0m\u001b[1;33m)\u001b[0m \u001b[1;32mfrom\u001b[0m \u001b[1;32mNone\u001b[0m\u001b[1;33m\u001b[0m\u001b[1;33m\u001b[0m\u001b[0m\n\u001b[0m\u001b[0;32m    905\u001b[0m             \u001b[1;32mexcept\u001b[0m \u001b[0mException\u001b[0m \u001b[1;32mas\u001b[0m \u001b[0me\u001b[0m\u001b[1;33m:\u001b[0m\u001b[1;33m\u001b[0m\u001b[1;33m\u001b[0m\u001b[0m\n\u001b[0;32m    906\u001b[0m                 \u001b[0mself\u001b[0m\u001b[1;33m.\u001b[0m\u001b[0mlog\u001b[0m\u001b[1;33m.\u001b[0m\u001b[0mwarning\u001b[0m\u001b[1;33m(\u001b[0m\u001b[1;34m\"Invalid Message:\"\u001b[0m\u001b[1;33m,\u001b[0m \u001b[0mexc_info\u001b[0m\u001b[1;33m=\u001b[0m\u001b[1;32mTrue\u001b[0m\u001b[1;33m)\u001b[0m\u001b[1;33m\u001b[0m\u001b[1;33m\u001b[0m\u001b[0m\n",
      "\u001b[1;31mKeyboardInterrupt\u001b[0m: Interrupted by user"
     ]
    }
   ],
   "source": [
    "password = input(\"Please enter your gmail application password to send email: \")\n",
    "recipients = ['keanucalo@gmail.com','clxkea001@myuct.ac.za']\n",
    "email = \"keanucalo@gmail.com\"\n",
    "send_cv(recipients, email, password)"
   ]
  },
  {
   "cell_type": "markdown",
   "id": "fd9521e2",
   "metadata": {},
   "source": [
    "# Start sending scheduled emails"
   ]
  },
  {
   "cell_type": "code",
   "execution_count": 21,
   "id": "a2d1a184",
   "metadata": {},
   "outputs": [
    {
     "name": "stdout",
     "output_type": "stream",
     "text": [
      "Please enter your gmail application password to begin sending emails: zukxqeofqedqkpqd\n",
      "Schedule started...\n",
      "Email sent successfully!\n",
      "Email sent successfully!\n",
      "Email sent successfully!\n"
     ]
    },
    {
     "ename": "KeyboardInterrupt",
     "evalue": "",
     "output_type": "error",
     "traceback": [
      "\u001b[1;31m---------------------------------------------------------------------------\u001b[0m",
      "\u001b[1;31mKeyboardInterrupt\u001b[0m                         Traceback (most recent call last)",
      "\u001b[1;32m<ipython-input-21-01d8d67f566b>\u001b[0m in \u001b[0;36m<module>\u001b[1;34m\u001b[0m\n\u001b[0;32m      4\u001b[0m \u001b[1;32mwhile\u001b[0m \u001b[1;32mTrue\u001b[0m\u001b[1;33m:\u001b[0m\u001b[1;33m\u001b[0m\u001b[1;33m\u001b[0m\u001b[0m\n\u001b[0;32m      5\u001b[0m     \u001b[0mschedule\u001b[0m\u001b[1;33m.\u001b[0m\u001b[0mrun_pending\u001b[0m\u001b[1;33m(\u001b[0m\u001b[1;33m)\u001b[0m\u001b[1;33m\u001b[0m\u001b[1;33m\u001b[0m\u001b[0m\n\u001b[1;32m----> 6\u001b[1;33m     \u001b[0mtime\u001b[0m\u001b[1;33m.\u001b[0m\u001b[0msleep\u001b[0m\u001b[1;33m(\u001b[0m\u001b[1;36m1\u001b[0m\u001b[1;33m)\u001b[0m\u001b[1;33m\u001b[0m\u001b[1;33m\u001b[0m\u001b[0m\n\u001b[0m",
      "\u001b[1;31mKeyboardInterrupt\u001b[0m: "
     ]
    }
   ],
   "source": [
    "password = input(\"Please enter your gmail application password to begin sending emails: \")\n",
    "print(\"Schedule started...\")\n",
    "schedule.every(1).days.do(send_cv, recipients, password)\n",
    "while True:\n",
    "    schedule.run_pending()\n",
    "    time.sleep(1)"
   ]
  },
  {
   "cell_type": "code",
   "execution_count": null,
   "id": "40cefa99",
   "metadata": {},
   "outputs": [],
   "source": []
  }
 ],
 "metadata": {
  "kernelspec": {
   "display_name": "Python 3",
   "language": "python",
   "name": "python3"
  },
  "language_info": {
   "codemirror_mode": {
    "name": "ipython",
    "version": 3
   },
   "file_extension": ".py",
   "mimetype": "text/x-python",
   "name": "python",
   "nbconvert_exporter": "python",
   "pygments_lexer": "ipython3",
   "version": "3.8.10"
  }
 },
 "nbformat": 4,
 "nbformat_minor": 5
}
